{
 "cells": [
  {
   "cell_type": "markdown",
   "metadata": {},
   "source": [
    "# Interpretability in Deep Learning\n",
    "Interpretability, part of the broader topic of explainable AI (XAI), is the process of adding explanations to deep learning model predictions. These explanations should help us understand why particular predictions are made. This is a critical topic because being able to understand model predictions is justified from a practical, theoretical, and increasingly a regulatory stand-point. It is practical because it has been shown that people are more likely to use predictions of a model if they can understand the rationale {cite}`lee2004trust`. Another practical concern is that correctly implementing methods is much easier when one can understand how a model arrived at a prediction. A theoretical justification for transparency is that it can help identify incompleteness in model domains (i.e., covariate shift){cite}`doshi2017towards`. It is now becoming a compliance problem because both the European Union {cite}`goodman2017european` and the G20 {cite}`Development2019` have recently adopted guidelines that recommend or require explanations for machine predictions. The European Union is considering going further with more [strict draft legislation](https://digital-strategy.ec.europa.eu/en/library/proposal-regulation-laying-down-harmonised-rules-artificial-intelligence-artificial-intelligence) being considered. \n",
    "\n",
    "A famous example on the need for explainable AI is found in Caruana et al.{cite}`caruana2015intelligible` who built an ML predictor to assess mortality risk of patients in the ER with pneumonia. The idea is that patients with pneumonia are screened with this tool and it helps doctors know which patients are more at risk of dying. It was found to be quite accurate. When the interpretation of its predictions were examined though, the reasoning was medically insane. The model surprisingly suggested patients with asthma (called asthmatics) have a reduced mortality risk when coming to the ER with pneumonia. Asthma, a condition which makes it difficult to breathe, was found to *make pneumonia patients less likely to die.* This was incidental; asthmatics are actually more at risk of dying from pneumonia but doctors are acutely aware of this and are thus more aggressive and attentive with them. Thanks to the increase care and attention from doctors, there are fewer mortalities. From an empirical standpoint, the model predictions are correct. However if the model were put into practice, it could have cost lives by incorrectly characterizing asthmatics as low mortality risk. Luckily the interpretability of their model helped researchers identify this problem. Thus, we can see that interpretation should always be a step in the construction of predictive models. \n",
    "\n",
    "## What is an explanation?\n",
    "\n",
    "We'll use the definition of explanation from Miller {cite}`miller2019explanation`. Miller distinguishes between interpretability, justification, and explanation with the following definitions:\n",
    "\n",
    "* **interptability** \"the degree to which an observer can understand the cause of a decision\". Miller considers this synonymous with explainability.\n",
    "* **justification** evidence or explanation of why a decision is good, like testing error or accuracy of a model\n",
    "* **explanation** explanations are a presentation of information intended for humans that give the context and cause for an outcome. These are the major focus of this chapter.\n",
    "\n",
    "We will dig deeper into what constitutes an *explanation*, but note an explanation is different than justifying a prediction. Justification is what we've focused on previously: empirical evidence for why we should believe model predictions are accurate. An explanation provides a *cause* for the prediction. Ultimately, explanations are intended to be understood by humans.\n",
    "\n",
    "Deep learning alone is a black box modeling technique it not interpretable or explainable. Examining the weights or model equation provides little insight into why predictions are made. Thus, interpretability is an extra task and means adding an explanation to predictions from the model. This is a challenge because of both the black box nature of deep learning and because there is no consensus on what exactly constitutes an \"explanation\" for model predictions {cite}`doshi2017towards`. For some, interpretability means having a natural language explanation justifying each prediction. For others, it can be simply showing which features contributed most to the prediction. \n",
    "\n",
    "There are two broad approaches to interpretation of ML models: post hoc interpretation via explanations and self-explaining models {cite}`Murdoch2019`. Self-explaining models are constructed so that an expert can view output of the model and connect it with the features through reasoning. They inherently interpretable. Self-explaining models are highly dependent on the task model{cite}`montavon2018methods`. A familiar example would be a physics based simulation like molecular dynamics or a single-point quantum energy calculation. You can examine the molecular dynamics trajectory, look at output numbers, and an expert can explain why, for example, the simulation predicts a drug molecule will bind to a protein. It may seem like this would be useless for deep learning interpretation. However, we will see later that we can create a **proxy model** (sometimes **surrogate model**) that is self-explaining and train it to agree with the deep learning model. Why will this training burden be any less than just using the proxy model from the beginning? We can generate an infinite amount of training data because our trained neural network can label arbitrary points. You can also construct deep learning models which have self-explaining features in them, like attention {cite}`bahdanau2014neural`. This allows you to connect the input features to the prediction based on attention. \n",
    "\n",
    "Post hoc interpretation by creating explanations can be approached in a number of ways, but the most common are training data importance, feature importance, and counterfactual explanations{cite}`wellawatte_seshadri_white_2021,ribeiro2016should,ribeiro2016model,wachter2017counterfactual`. An example of a post hoc interpretation based on data importance is identifying the most influential training data to explain a prediction {cite}`koh2017understanding`. It is perhaps arguable if this gives an *explanation*, but it certainly helps understand which data is relevant for a prediction. Feature importance is probably the most common XAI approach and frequently appear in computer vision research where the pixels most important for the class of an image are highlighted. Finally, counterfactual explanations are an emerging approach where a new data point is generated (in same distribution as training data features) that serves as a counterfactual. A counterfactual gives insight into how important and sensitive the features are. An example might be in a model that recommends giving a loan. A model could produce the following counterfactual explanation (from {cite}`wachter2017counterfactual`):\n",
    "\n",
    "> You were denied a loan based on your annual income, zip code, and assets. If \n",
    "> your annual income had been $45,000, you would have been offered a loan.\n",
    "\n",
    "The second sentence is the conuterfactual and shows how the features could be changed to affect the model outcome. Coutnerfactuals provide a nice balance of complexity and explanatory power.\n",
    "\n",
    "This was a brief overview of large field of XAI. You can find a recent review of interpretable deep learning in Samek et al. {cite}`9369420` and Christopher Molnar has a [broad online book](https://christophm.github.io/interpretable-ml-book/) about interpretable machine learning, including deep learning {cite}`molnar2019`. Prediction error and confidence in predictions is not covered here, since they are more about justification, but see the methods from {doc}`../ml/regression` which apply. "
   ]
  },
  {
   "cell_type": "markdown",
   "metadata": {},
   "source": [
    "## Feature Importance\n",
    "\n",
    "Feature importance is the most straightforward and common method of interpreting a machine learning model. The output of feature importance is a ranking or numerical values for each feature, typically for a single prediction. If you are trying to understand the feature importance across the whole model, this is called **global** feature importance and **local** for a single prediction. Global feature importance and global interpretability is relatively rare because the best models change which features are important in different regions of feature space.\n",
    "\n",
    "Let's start with a linear model to see feature importance:\n",
    "\n",
    "\\begin{equation}\n",
    "\\hat{y} = \\vec{w}\\vec{x} + b \n",
    "\\end{equation}\n",
    "\n",
    "where $\\vec{x}$ is our feature vector. A simple way to assess feature importance is to simply look at the weight value $w_i$ for a particular feature $x_i$. The weight $w_i$ shows how much $\\hat{y}$ would change if $x_i$ is increased by 1 while all other features are constant. If the magnitude of our features are comparable, then this would be a reasonable way to rank features. However, if our features have units, this approach is sensitive to unit choices and relative magnitude of features. For example if our temperature was changed from Celsius to Fahrenheit, a 1 degree increase will have a smaller effect. \n",
    "\n",
    "To remove the effect of feature magnitude and units, a slightly better way to assess feature importance is to divide $w_i$ by the **standard error**  in the feature values. Recall that standard error is just the ratio of sum of squared error in predicted value divided by the total deviation in the feature. Standard error is a ratio of prediction accuracy to feature variance -- and the prediction accuracy is independent of the feature and thus has no effect for ranking feature importance. $w_i$ divided by standard error is called the $t$-statistic because it can be compared with the $t$-distribution for assessing feature importance.\n",
    "\n",
    "\\begin{equation}\n",
    "t_i = \\frac{w_i}{S_{w_i}},\\; S^2_{w_i} = \\frac{1}{N - D}\\sum_j \\frac{\\left(\\hat{y}_j - y_j\\right)^2}{\\left(x_{ij} - \\bar{x}_i\\right)^2}\n",
    "\\end{equation}\n",
    "\n",
    "where $N$ is the number of examples,  $D$ is the number of features, and $\\bar{x}_i$ is the average value of the $i$th feature. The $t_i$ value can be used to rank features and it can be used for a hypothesis test: if $P(t > t_i) < 0.05$ then that feature is significant, where $P(t)$ is Student's $t$-distribution. Note that a feature's significance is sensitive to which features are present in a model; if you add new features some may become redundant.\n",
    "\n",
    "If we move to a non-linear learned function $\\hat{f}(\\vec{x})$, we must compute how the prediction changes if a feature value increases by 1 via the derivative approximation:\n",
    "\n",
    "$$\n",
    "\\frac{\\Delta \\hat{f}(\\vec{x})}{\\Delta x_i} \\approx \\frac{\\partial  \\hat{f}(\\vec{x})}{\\partial x_i}\n",
    "$$\n",
    "\n",
    "so a change by 1 is\n",
    "\n",
    "\\begin{equation}\n",
    "\\Delta \\hat{f}(\\vec{x}) \\approx \\frac{\\partial  \\hat{f}(\\vec{x})}{\\partial x_i}.\n",
    "\\end{equation}\n",
    "\n",
    "\n",
    "In practice, we make a slight variation on this equation -- instead of a Taylor series centered at 0 approximating this change, we center at some other root (point where the function is 0). This \"grounds\" the series at the decision boundary (a root) and then you can view the partials as \"pushing\" the predicted class away or towards the decision boundary. Another way to think about this is that we use the first-order terms of the Taylor series to build a linear model. Then we just apply what we did above to that linear model and use the coefficients as the \"importance\" of features. Specifically, we use this surrogate function for $\\hat{f}(\\vec{x})$:\n",
    "\n",
    "\\begin{equation}\n",
    "\\require{cancel}\n",
    "\\hat{f}(\\vec{x}) \\approx \\cancelto{0}{f(\\vec{x}')} +  \\nabla\\hat{f}(\\vec{x}')\\cdot\\left(\\vec{x} - \\vec{x}'\\right)\n",
    "\\end{equation}\n",
    "\n",
    "where $\\vec{x}'$ is the root of $\\hat{f}(\\vec{x})$. In practice people may choose the trivial root $\\vec{x}' = \\vec{0}$, however a nearby root is ideal. This root is often called the **baseline** input. Note that as opposed to the linear example above, we consider the product of the partial $\\frac{\\partial  \\hat{f}(\\vec{x})}{\\partial x_i}$ and the increase above baseline $(x_i - x_i')$."
   ]
  },
  {
   "cell_type": "markdown",
   "metadata": {},
   "source": [
    "### Neural Network Feature Importance\n",
    "\n",
    "In neural networks the partial derivatives are a poor approximation of the real changes to the output. Small changes to the input can have discontinuous changes, making the terms above have little explanatory power. This is called the **shattered gradients** problem {cite}`pmlr-v70-balduzzi17b`. Breaking down each feature separately also misses correlations between features -- which don't exist in a linear model. Thus the derivative approximation works satisfactorily in locally linear models, but not deep neural networks.\n",
    "\n",
    "There are a variety of techniques that get around the issue of shattered gradients in neural networks. Two popular methods are integrated gradients {cite}`sundararajan2017axiomatic` and SmoothGrad{cite}`smilkov2017smoothgrad`. Integrated gradients creates a path from $\\vec{x}'$ to $\\vec{x}$ and integrates Equation 4 along that path:\n",
    "\n",
    "\\begin{equation}\n",
    "\\textrm{IG}_i = \\left(\\vec{x} - \\vec{x}'\\right) \\int_0^1\\left[\\nabla\\hat{f}\\left(\\vec{x}' + t\\left(\\vec{x} - \\vec{x}'\\right)\\right)\\right]_i\\,dt\n",
    "\\end{equation}\n",
    "\n",
    "where $t$ is some increment along the path such that $\\vec{x}' + t\\left(\\vec{x} - \\vec{x}'\\right) = \\vec{x}'$ when $t = 0$ and $\\vec{x}' + t\\left(\\vec{x} - \\vec{x}'\\right) = \\vec{x}$ when $t = 1$. This gives us the integrated gradient for each feature $i$. The integrated gradients are the importance of each feature, but without the complexity of shattered gradients. There are some nice properties too, like $\\sum_i \\textrm{IG}_i = f(\\vec{x}) - f(\\vec{x}')$ so that the integrated gradients provide a complete partition of the change from the baseline to the prediction{cite}`sundararajan2017axiomatic`.\n",
    "\n",
    "Implementing integrated gradients is actually relatively simple. You approximate the path integral with a Riemann sum by breaking the path into a set of discrete inputs between the input features $\\vec{x}$ and the baseline $\\vec{x}'$. You compute the gradient of these inputs with the neural network. Then you multiply that be the change in features above baseline: $\\left(\\vec{x} - \\vec{x}'\\right)$.\n",
    "\n",
    "SmoothGrad is a similar idea to the integrated gradients. Rather than summing up the gradients along a path though, we sum gradients from random points nearby our prediction. The equation is:\n",
    "\n",
    "\\begin{equation}\n",
    "\\textrm{SG}_i = \\sum_j^M\\left[\\nabla\\hat{f}\\left(\\vec{x}' + \\vec{\\epsilon}\\right)\\right]_i\n",
    "\\end{equation}\n",
    "\n",
    "where $M$ is a choice of sample number and $\\vec{\\epsilon}$ is sampled from $D$ zero-mean Guassians {cite}`smilkov2017smoothgrad`. The only change in implementation here is to replace the path with a series of random perturbations.\n",
    "\n",
    "Beyond these gradient based approaches, Layer-wise Relevance Propagation (LRP) is another popular approach for feature importance analysis in neural networks. LRP works by doing a backwards propogation through the neural network that partitions the output value of one layer to the input features. It \"distributes relevance\". What is unusual about LRP is that each layer type needs its own implementation. It doesn't rely on the analytic derivative, but instead a Taylor series expansion of the layer equation. There are variants for GNNs and NLP, so that LRP can be used in most settings in materials and chemistry {cite}`Montavon2019`."
   ]
  },
  {
   "cell_type": "markdown",
   "metadata": {},
   "source": [
    "### Shapley Values\n",
    "\n",
    "A model agnostic way to treat feature importance is with **Shapley values.** Shapley values come from game theory and are a solution to how to pay a coalition of cooperating players according to their contributions. Imagine each feature is a player and we would like to \"pay\" them according to their contribution to the predicted value. A Shapley value $\\phi_i(x)$ is the pay to feature $i$ at instance $x$. We break-up the predicted function value $\\hat{f}(x)$ into the Shapley values so that the sum of the pay is the function value ($\\sum_i \\phi_i(x) = \\hat{f}(x)$. This means you can interpet the Shapley value of a feature as its numerical contribution to the prediction. Shapley values are powerful because their calculation is agnostic to the model, they partition the predicted value among each feature, and they have other attributes that we would desire in an explanation of a prediction (symmetry, linearity, permutation invariant, etc.). Their disadvantage are that exact computation is combinatorial with respect to feature number and they have no sparsity, making them less helpful as feature number grows. Most methods we discuss here also have no sparsity -- you can also force your model to be sparse to achieve sparse explanations.\n",
    "\n",
    "Shapley values are computed as\n",
    "\n",
    "\\begin{equation}\n",
    "\\phi_i(x) = \\frac{1}{Z}\\sum_{S \\in M \\backslash x_i}v(S\\cup x_i) - v(S)\n",
    "\\end{equation}\n",
    "$$\n",
    "Z = \\frac{|S|!\\left(N - |S| - 1\\right)!}{N!}\n",
    "$$\n",
    "\n",
    "where $S \\in N \\backslash x_i$ means all sets of features that exclude feature $x_i$, $S\\cup x_i$ means putting back feature $x_i$ into the set, and $v(S)$ is the value of $\\hat{f}(x)$ using only the features included in $S$, and $Z$ is a normalization value. The formula can be interpreted as the mean of all possible differences in $\\hat{f}$ formed by adding/removing feature $i$. \n",
    "\n",
    "One immediate concern though is how can we \"remove\" feature $i$ from a model equation? We marginilize out feature $i$. Recall a marginal is a way to integrate out a random variable -- $P(x) = \\int\\, P(x,y)\\,dy$. That integrates over all possible $x$ values. Marginalization can be used on functions of random variables, which obviously are also random variables, by taking an expectation: $E_y[f | X = x] = \\int\\,f(X=x,y)P(X=x,y)\\, dy$. I've emphasized that the random variable $X$ is fixed in the integral and thus $E_y[f]$ is a function of $x$. $y$ is removed by computing the expected value of $f(x,y)$ where $x$ is fixed (the function argument). We're essentially replacing $f(x,y)$ with a new function $E_y[f]$ that is the average of all possible $y$ values I'm over-explaining this though, it's quite intuitive. The other detail is that *value* is the change relative to the average of $\\hat{f}$. You can typically ignore this extra term - it cancels, but I include it for completeness. Thus the value equation becomes {cite}`vstrumbelj2014explaining`:\n",
    "\n",
    "\\begin{equation}\n",
    "v(x_i) = \\int\\,f(x_0, x_1, \\ldots, x_i,\\ldots, x_N)P(x_0, x_1, \\ldots, x_i,\\ldots, x_N)\\, dx_i - E\\left[\\hat{f}(\\vec{x})\\right]\n",
    "\\end{equation}\n",
    "\n",
    "How do we compute the marginal $\\int\\,f(x_0, x_1, \\ldots, x_i,\\ldots, x_N)P(x_0, x_1, \\ldots, x_i,\\ldots, x_N)\\, dx_i$? We do not have a known probability distribution $P(\\vec{x})$. We can sample from $P(\\vec{x})$ by considering our data as an **empirical distribution**. That is, we can sample from $P(\\vec{x})$ by sampling data points. There is a little bit of complexity here because we need to sample the $\\vec{x}$'s jointly, we cannot just mix together individual features randomly because there are correlations between features that will be removed. {cite}`vstrumbelj2014explaining` showed that we can directly estimate the $i$th Shapley value with:\n",
    "\n",
    "\\begin{equation}\n",
    "\\phi_i(\\vec{x}) = \\frac{1}{M}\\sum^M \\hat{f}\\left(\\vec{z}_{+i}\\right) - \\hat{f}\\left(\\vec{z}_{-i}\\right)\n",
    "\\end{equation}\n",
    "\n",
    "where $\\vec{z}$ is a \"chimera\" example constructed from the real example $\\vec{x}$ and a randomly drawn example $\\vec{x}'$. We randomly select from $\\vec{x}$ and $\\vec{x}'$ to construct $\\vec{z}$, except $\\vec{z}_{+i}$ specifically has the $i$th feature from the example $\\vec{x}$ and $\\vec{z}_{-i}$ has the $i$th feature from the random example $\\vec{x}'$. $M$ is chosen large enough to get a good sample for this value. {cite}`vstrumbelj2014explaining` gives guidance on choosing $M$, but basically as large $M$ as computationally feasible reasonable. One change in this approximation though is that we end-up with an explicit term for the expectation (someimtes denoted $\\phi_0$) so that our \"completeness\" equation is:\n",
    "\n",
    "\\begin{equation}\n",
    "\\sum_i \\phi_i(\\vec{x}) = \\hat{f}(\\vec{x}) - E[\\hat{f}(\\vec{x})]\n",
    "\\end{equation}\n",
    "\n",
    "Or if you explicitly include expectation as $\\phi_0$, which is indepdent of $\\vec{x}$\n",
    "\n",
    "\\begin{equation}\n",
    "\\phi_0 + \\sum_{i=1} \\phi_i(\\vec{x}) = \\hat{f}(\\vec{x})\n",
    "\\end{equation}\n",
    "\n",
    "```{margin}\n",
    "Marginalizing features *is not* the same as replacing features with their average.\n",
    "```\n",
    "With this efficient approximation method, the strong theory, and independence of model choice, Shapley values are an excellent choice for describing feature importance for examples."
   ]
  },
  {
   "cell_type": "markdown",
   "metadata": {},
   "source": [
    "## Running This Notebook\n",
    "\n",
    "\n",
    "Click the &nbsp;<i aria-label=\"Launch interactive content\" class=\"fas fa-rocket\"></i>&nbsp; above to launch this page as an interactive Google Colab. See details below on installing packages, either on your own environment or on Google Colab\n",
    "\n",
    "````{tip} My title\n",
    ":class: dropdown\n",
    "To install packages, execute this code in a new cell\n",
    "\n",
    "```\n",
    "!pip install matplotlib numpy pandas seaborn jax jaxlib dm-haiku\n",
    "```\n",
    "\n",
    "````"
   ]
  },
  {
   "cell_type": "code",
   "execution_count": 1,
   "metadata": {
    "scrolled": true,
    "tags": [
     "hide-cell"
    ]
   },
   "outputs": [],
   "source": [
    "import haiku as hk\n",
    "import jax\n",
    "import tensorflow as tf\n",
    "import jax.numpy as jnp\n",
    "import numpy as np\n",
    "import matplotlib.pyplot as plt\n",
    "import seaborn as sns\n",
    "import matplotlib as mpl\n",
    "import warnings\n",
    "import urllib\n",
    "import jax.experimental.optimizers as opt\n",
    "warnings.filterwarnings('ignore')\n",
    "sns.set_context('notebook')\n",
    "sns.set_style('dark',  {'xtick.bottom':True, 'ytick.left':True, 'xtick.color': '#666666', 'ytick.color': '#666666',\n",
    "                        'axes.edgecolor': '#666666', 'axes.linewidth':     0.8 , 'figure.dpi': 300})\n",
    "color_cycle = ['#1BBC9B', '#F06060', '#5C4B51', '#F3B562', '#6e5687']\n",
    "mpl.rcParams['axes.prop_cycle'] = mpl.cycler(color=color_cycle) \n",
    "np.random.seed(0)\n",
    "tf.random.set_seed(0)\n",
    "\n",
    "ALPHABET = ['-', 'A','R','N','D','C','Q','E','G','H','I', 'L','K','M','F','P','S','T','W','Y','V']\n",
    "def seq2array(seq, L=200):\n",
    "    return np.pad(list(map(ALPHABET.index, seq)), (0,L - len(seq))).reshape(1, -1)\n",
    "def array2oh(a):\n",
    "    a = np.squeeze(a)\n",
    "    o = np.zeros((len(a), 21))\n",
    "    o[np.arange(len(a)), a] = 1\n",
    "    return o.astype(np.float32).reshape(1, -1, 21)\n",
    "\n",
    "urllib.request.urlretrieve(\n",
    "    'https://github.com/whitead/dmol-book/raw/master/data/hemolytic.npz', 'hemolytic.npz')\n",
    "with np.load('hemolytic.npz', 'rb') as r:\n",
    "    pos_data, neg_data = r['positives'], r['negatives']"
   ]
  },
  {
   "cell_type": "markdown",
   "metadata": {},
   "source": [
    "## Feature Importance Example\n",
    "\n",
    "Let's see an example of these feature importance methods on a peptide prediction task to predict if a peptide will kill red blood cells (hemolytic). This is similar to the solubility prediction example from {doc}`layers`. The data is from {cite}`barrett2020investigating`.  The model takes in peptides sequences (e.g., `DDFRD`) and predicts the probability that the peptide is hemolytic. The goal of the feature importance method here will be to identify which amino acids matter most for the hemolytic activity. The hidden-cell below loads and processes the data into a dataset."
   ]
  },
  {
   "cell_type": "code",
   "execution_count": 2,
   "metadata": {
    "tags": [
     "hide-cell"
    ]
   },
   "outputs": [],
   "source": [
    "# create labels and stich it all into one \n",
    "# tensor\n",
    "labels = np.concatenate((np.ones((pos_data.shape[0], 1), dtype=pos_data.dtype), np.zeros((neg_data.shape[0], 1) , dtype=pos_data.dtype)), axis=0)\n",
    "features = np.concatenate((pos_data, neg_data), axis=0)\n",
    "# we now need to shuffle before creating TF dataset\n",
    "# so that our train/test/val splits are random\n",
    "i = np.arange(len(labels))\n",
    "np.random.shuffle(i)\n",
    "labels = labels[i]\n",
    "features = features[i]\n",
    "L = pos_data.shape[-2]\n",
    "\n",
    "# need to add token for empty amino acid\n",
    "# dataset just has all zeros currently\n",
    "features = np.concatenate((np.zeros((features.shape[0], L, 1)), features), axis=-1)\n",
    "features[np.sum(features, -1) == 0, 0] = 1.0\n",
    "\n",
    "batch_size = 16\n",
    "full_data = tf.data.Dataset.from_tensor_slices((features.astype(np.float32), labels))\n",
    "\n",
    "# now split into val, test, train\n",
    "N = pos_data.shape[0] + neg_data.shape[0]\n",
    "split = int(0.1 * N)\n",
    "test_data = full_data.take(split).batch(batch_size)\n",
    "nontest = full_data.skip(split)\n",
    "val_data, train_data = nontest.take(split).batch(batch_size), nontest.skip(split).shuffle(1000).batch(batch_size)"
   ]
  },
  {
   "cell_type": "markdown",
   "metadata": {},
   "source": [
    "We rebuild the convolution model in JAX (using Haiku) to make working with gradients a bit easier. We also make a few changes to the model -- we pass in the sequence length and amino acid fractions as extra information in addition to the convolutions."
   ]
  },
  {
   "cell_type": "code",
   "execution_count": 3,
   "metadata": {},
   "outputs": [],
   "source": [
    "def binary_cross_entropy(logits, y):\n",
    "    '''Binary cross entropy without sigmoid. Works with logits directly'''\n",
    "    return jnp.clip(logits, 0, None) - logits * y + jnp.log(1 + jnp.exp(-jnp.abs(logits)))\n",
    "def model_fn(x):\n",
    "    # get fractions, excluding skip character\n",
    "    aa_fracs = jnp.mean(x, axis=1)[:,1:]\n",
    "    # compute convolutions/poolings\n",
    "    mask = jnp.sum(x[...,1:], axis=-1, keepdims=True)    \n",
    "    for kernel, pool in zip([5, 3, 3], [4, 2, 2]):\n",
    "        x = hk.Conv1D(16, kernel)(x) * mask\n",
    "        x = jax.nn.tanh(x)\n",
    "        x = hk.MaxPool(pool, pool, 'VALID')(x)\n",
    "        mask = hk.MaxPool(pool, pool, 'VALID')(mask)\n",
    "    # combine fractions, length, and convolution ouputs\n",
    "    x = jnp.concatenate((hk.Flatten()(x), aa_fracs, jnp.sum(mask, axis=1)),axis=1)        \n",
    "    # dense layers. no bias, so zeros give P=0.5\n",
    "    logits = hk.Sequential([               \n",
    "        hk.Linear(256, with_bias=False), jax.nn.tanh,\n",
    "        hk.Linear(64, with_bias=False), jax.nn.tanh,\n",
    "        hk.Linear(1, with_bias=False)\n",
    "    ])(x)\n",
    "    return logits\n",
    "model = hk.without_apply_rng(hk.transform(model_fn))\n",
    "def loss_fn(params, x, y):    \n",
    "    logits = model.apply(params, x)\n",
    "    return jnp.mean(binary_cross_entropy(logits, y))\n",
    "@jax.jit\n",
    "def hemolytic_prob(params, x):\n",
    "    logits = model.apply(params, x)\n",
    "    return jax.nn.sigmoid(jnp.squeeze(logits))\n",
    "@jax.jit\n",
    "def accuracy_fn(params, x, y):\n",
    "    logits = model.apply(params, x)\n",
    "    return jnp.mean((logits >= 0) * y + (logits < 0) * (1 - y))"
   ]
  },
  {
   "cell_type": "code",
   "execution_count": 4,
   "metadata": {},
   "outputs": [
    {
     "name": "stderr",
     "output_type": "stream",
     "text": [
      "WARNING:absl:No GPU/TPU found, falling back to CPU. (Set TF_CPP_MIN_LOG_LEVEL=0 and rerun for more info.)\n"
     ]
    }
   ],
   "source": [
    "rng = jax.random.PRNGKey(0)\n",
    "xi, yi = features[:batch_size], labels[:batch_size]\n",
    "params = model.init(rng, xi)\n",
    "\n",
    "opt_init, opt_update, get_params = opt.adam(1e-2)\n",
    "opt_state = opt_init(params)\n",
    "\n",
    "@jax.jit\n",
    "\n",
    "def update(step, opt_state, x, y):\n",
    "    value, grads = jax.value_and_grad(loss_fn)(get_params(opt_state), x, y)\n",
    "    opt_state = opt_update(step, grads, opt_state)\n",
    "    return value, opt_state"
   ]
  },
  {
   "cell_type": "code",
   "execution_count": 5,
   "metadata": {},
   "outputs": [],
   "source": [
    "epochs = 32\n",
    "for e in range(epochs):\n",
    "    avg_v = 0\n",
    "    for i, (xi, yi) in enumerate(train_data):\n",
    "        v, opt_state = update(i, opt_state, xi.numpy(), yi.numpy())        \n",
    "        avg_v += v\n",
    "opt_params = get_params(opt_state)"
   ]
  },
  {
   "cell_type": "markdown",
   "metadata": {},
   "source": [
    "Here we compute the accuracy of our model, which is quite good. "
   ]
  },
  {
   "cell_type": "code",
   "execution_count": 6,
   "metadata": {},
   "outputs": [
    {
     "name": "stdout",
     "output_type": "stream",
     "text": [
      "0.95208335\n"
     ]
    }
   ],
   "source": [
    "acc = []\n",
    "for xi, yi in test_data:\n",
    "    acc.append(accuracy_fn(opt_params, xi.numpy(), yi.numpy()))\n",
    "print(jnp.mean(np.array(acc)))"
   ]
  },
  {
   "cell_type": "markdown",
   "metadata": {},
   "source": [
    "Let's try an amino acid sequence, a peptide, to get a feel for the model. The model outputs logits (logarithm of odds), which we put through a sigmoid to get probabilities. The peptides must be converted from a sequence to a matrix of one-hot column vectors. We'll try two known sequences: Q is known to be common in hemolytic residues and the second sequence is poly-G, which is the simplest amino acid."
   ]
  },
  {
   "cell_type": "code",
   "execution_count": 7,
   "metadata": {
    "scrolled": true
   },
   "outputs": [
    {
     "name": "stdout",
     "output_type": "stream",
     "text": [
      "Probability QQQQQ of being hemolytic 1.00\n",
      "Probability GGGGG of being hemolytic 0.00\n"
     ]
    }
   ],
   "source": [
    "s = 'QQQQQ'\n",
    "sm = array2oh(seq2array(s))\n",
    "p = hemolytic_prob(opt_params, sm)\n",
    "print(f'Probability {s} of being hemolytic {p:.2f}')\n",
    "\n",
    "s = 'GGGGG'\n",
    "sm = array2oh(seq2array(s))\n",
    "p = hemolytic_prob(opt_params, sm)\n",
    "print(f'Probability {s} of being hemolytic {p:.2f}')"
   ]
  },
  {
   "cell_type": "markdown",
   "metadata": {},
   "source": [
    "It looks reasonable -- the model matches our intuition about these two sequences\n",
    "\n",
    "### Gradients\n",
    "\n",
    "Now to start examining *why* a particular sequence is hemolytic! We'll begin by computing the gradients with respect to input -- the naieve approach that is susceptible to shattered gradients. Computing this is a component in the process for integrated and smooth gradients, so not wasted effort. We will use a more complex peptide sequence that is known to be hemolytic to get more interesting analysis. "
   ]
  },
  {
   "cell_type": "code",
   "execution_count": 8,
   "metadata": {
    "tags": [
     "hide-cell"
    ]
   },
   "outputs": [],
   "source": [
    "def plot_grad(g, s, ax=None):\n",
    "    #g = np.array(g)\n",
    "    if ax is None:\n",
    "        plt.figure()\n",
    "        ax = plt.gca()\n",
    "    if len(g.shape) == 3:\n",
    "        h = g[0, np.arange(len(s)), list(map(ALPHABET.index,s))]\n",
    "    else:\n",
    "        h = g\n",
    "    ax.bar(np.arange(len(s)), height=h)\n",
    "    ax.set_xticks(range(len(s)))\n",
    "    ax.set_xticklabels(s)"
   ]
  },
  {
   "cell_type": "code",
   "execution_count": 9,
   "metadata": {},
   "outputs": [
    {
     "name": "stdout",
     "output_type": "stream",
     "text": [
      "Probability RAGLQFPVGRLLRRLLRRLLR of being hemolytic 1.00\n"
     ]
    }
   ],
   "source": [
    "s = 'RAGLQFPVGRLLRRLLRRLLR'\n",
    "sm = array2oh(seq2array(s))\n",
    "p = hemolytic_prob(opt_params, sm)\n",
    "print(f'Probability {s} of being hemolytic {p:.2f}')"
   ]
  },
  {
   "cell_type": "code",
   "execution_count": 10,
   "metadata": {},
   "outputs": [
    {
     "data": {
      "image/png": "[encoded data removed]",
      "text/plain": [
       "<Figure size 432x288 with 1 Axes>"
      ]
     },
     "metadata": {},
     "output_type": "display_data"
    }
   ],
   "source": [
    "gradient = jax.grad(lambda s: jnp.squeeze(model.apply(opt_params, s)), 0)\n",
    "g = gradient(sm)\n",
    "plot_grad(g, s)"
   ]
  },
  {
   "cell_type": "markdown",
   "metadata": {},
   "source": [
    "Remember that the model outputs logits. Positive value of the gradient mean this amino acid is responsible for pushing hemolytic probability higher and negative values mean the amino acid is pushing towards non-hemolytic. Interestingly, you can see a strong position dependence on the leucine (L) and arginine (R).\n",
    "\n",
    "### Integrated Gradients\n",
    "\n",
    "We'll now implement the integrated gradients method. We go through three basic steps:\n",
    "\n",
    "1. Create an array of inputs going from baseline to input peptide\n",
    "2. Evaluate gradient on each input\n",
    "3. Compute the sum of the gradients and multiply it by difference between baseline and peptide\n",
    "\n",
    "The baseline for us is all zeros -- which gives a probability of 0.5 (logits = 0, a model root). This baseline is exactly on the decision boundary. You could use other baselines like all glycines or all alanines, just they should be at or near probability of 0.5. You can find a detailed and interactive exploration of the baseline choice in {cite}`sturmfels2020visualizing`."
   ]
  },
  {
   "cell_type": "code",
   "execution_count": 11,
   "metadata": {},
   "outputs": [],
   "source": [
    "def integrated_gradients(sm, N):\n",
    "    baseline = jnp.zeros((1, L, 21))\n",
    "    t = jnp.linspace(0, 1, N).reshape(-1, 1, 1)\n",
    "    path = baseline * (1 - t) + sm * t\n",
    "    def get_grad(pi):\n",
    "        # compute gradient \n",
    "        # add/remove batch axes\n",
    "        return gradient(pi[jnp.newaxis, ...])[0]\n",
    "    gs = jax.vmap(get_grad)(path)\n",
    "    # sum pieces (Riemann sum), multiply by (x - x')\n",
    "    ig = jnp.mean(gs, axis=0, keepdims=True) * (sm - baseline)\n",
    "    return ig\n",
    "ig = integrated_gradients(sm, 1024)"
   ]
  },
  {
   "cell_type": "code",
   "execution_count": 12,
   "metadata": {},
   "outputs": [
    {
     "data": {
      "image/png": "[encoded data removed]",
      "text/plain": [
       "<Figure size 432x288 with 1 Axes>"
      ]
     },
     "metadata": {},
     "output_type": "display_data"
    }
   ],
   "source": [
    "plot_grad(ig, s)"
   ]
  },
  {
   "cell_type": "markdown",
   "metadata": {},
   "source": [
    "We see that the position dependence has become more pronounced, with arginine being very sensitive to position. Relatively little has qualitatively changed between this and the vanilla gradients.\n",
    "\n",
    "### SmoothGrad\n",
    "\n",
    "To do SmoothGrad, our steps are almost identicial:\n",
    "\n",
    "1. Create an array of inputs that are random pertubations of the input peptide\n",
    "2. Evaluate gradient on each input\n",
    "3. Compute the mean of the gradients\n",
    "\n",
    "There is one additional hyperparameter, $\\sigma$, which in principle should be as small as possible while still causing the model output to change.\n"
   ]
  },
  {
   "cell_type": "code",
   "execution_count": 13,
   "metadata": {},
   "outputs": [
    {
     "data": {
      "image/png": "[encoded data removed]",
      "text/plain": [
       "<Figure size 432x288 with 1 Axes>"
      ]
     },
     "metadata": {},
     "output_type": "display_data"
    }
   ],
   "source": [
    "def smooth_gradients(sm, N, rng, sigma=1e-3):\n",
    "    baseline = jnp.zeros((1, L, 21))\n",
    "    t = jax.random.normal(rng, shape=(N, sm.shape[1], sm.shape[2])) * sigma\n",
    "    path = sm + t\n",
    "    # remove examples that are negative and force summing to 1\n",
    "    path = jnp.clip(path, 0, 1)\n",
    "    path /= jnp.sum(path, axis=2, keepdims=True)    \n",
    "    def get_grad(pi):\n",
    "        # compute gradient \n",
    "        # add/remove batch axes\n",
    "        return gradient(pi[jnp.newaxis, ...])[0]\n",
    "    gs = jax.vmap(get_grad)(path)\n",
    "    # mean\n",
    "    ig = jnp.mean(gs, axis=0, keepdims=True)\n",
    "    return ig\n",
    "sg = smooth_gradients(sm, 1024, jax.random.PRNGKey(0))\n",
    "plot_grad(sg, s)"
   ]
  },
  {
   "cell_type": "markdown",
   "metadata": {},
   "source": [
    "It looks remarkably similar to the vanilla gradient setting -- probably because our 1D input/shallow network is not as sensitive to shattered gradients."
   ]
  },
  {
   "cell_type": "markdown",
   "metadata": {},
   "source": [
    "### Shapley Value\n",
    "\n",
    "Now we will approximate the Shapley values for each feature using Equation 10.9. The Shapley value computation is different than previous approaches because it does not require gradients. The basic algorithm is:\n",
    "\n",
    "1. select random point x'\n",
    "2. create point z by combining x and x'\n",
    "3. compute change in predicted function\n",
    "\n",
    "One efficiency change we make is to prevent modifying the sequence in its padding -- basically preventing exploring making the sequence longer. "
   ]
  },
  {
   "cell_type": "code",
   "execution_count": 14,
   "metadata": {},
   "outputs": [],
   "source": [
    "def shapley(i, sm, sampled_x, rng, model, opt_params=opt_params):\n",
    "    M,F,*_ = sampled_x.shape\n",
    "    z_choice = jax.random.bernoulli(rng, shape=(M,F))\n",
    "    # only swap out features within length of sm\n",
    "    mask = jnp.sum(sm[...,1:], -1)        \n",
    "    z_choice *= mask\n",
    "    z_choice = 1 - z_choice\n",
    "    # construct with and w/o ith feature\n",
    "    z_choice = jax.ops.index_update(z_choice, jax.ops.index[:,i], 0.)\n",
    "    z_choice_i = jax.ops.index_update(z_choice, jax.ops.index[:,i], 1.0)\n",
    "    # select them via multiplication\n",
    "    z = sm * z_choice[...,jnp.newaxis] + \\\n",
    "        sampled_x * (1 - z_choice[...,jnp.newaxis])\n",
    "    z_i = sm * z_choice_i[...,jnp.newaxis] + \\\n",
    "        sampled_x * (1 - z_choice_i[...,jnp.newaxis])\n",
    "    v = model(opt_params, z_i) - model(opt_params, z)    \n",
    "    return jnp.squeeze(jnp.mean(v, axis=0))\n",
    "    \n",
    "# assume data is alrady shuffled, so just take M\n",
    "M = 4096\n",
    "sl = len(s)\n",
    "sampled_x = train_data.unbatch().batch(M).as_numpy_iterator().next()[0]\n",
    "# make batched shapley so we can compute for all features\n",
    "bshapley = jax.vmap(shapley, in_axes=(0, None, None, 0, None))\n",
    "sv = bshapley(jnp.arange(sl), sm, sampled_x, jax.random.split(jax.random.PRNGKey(0), sl), model.apply)\n",
    "\n",
    "# compute global expectation\n",
    "eyhat = 0\n",
    "for xi, yi in full_data.batch(M).as_numpy_iterator():\n",
    "    eyhat += jnp.mean(model.apply(opt_params, xi))\n",
    "eyhat /= len(full_data)"
   ]
  },
  {
   "cell_type": "code",
   "execution_count": 15,
   "metadata": {
    "tags": [
     "remove-cell"
    ]
   },
   "outputs": [
    {
     "data": {
      "application/papermill.record/image/png": "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\n",
      "application/papermill.record/text/plain": "<Figure size 432x288 with 1 Axes>"
     },
     "metadata": {
      "scrapbook": {
       "mime_prefix": "application/papermill.record/",
       "name": "shapley_convg"
      }
     },
     "output_type": "display_data"
    },
    {
     "data": {
      "image/png": "[encoded data removed]",
      "text/plain": [
       "<Figure size 432x288 with 1 Axes>"
      ]
     },
     "metadata": {},
     "output_type": "display_data"
    }
   ],
   "source": [
    "from myst_nb import glue\n",
    "val = []\n",
    "ms = np.linspace(2, 400, 25)\n",
    "for m in ms.astype(np.int32):\n",
    "    sampled_x = train_data.unbatch().batch(m).as_numpy_iterator().next()[0]\n",
    "    val.append(eyhat + jnp.sum(bshapley(jnp.arange(sl), sm, sampled_x, jax.random.split(jax.random.PRNGKey(0), sl), model.apply)))\n",
    "plt.plot(ms, val, '-o', label='Sum of Shapley Values')\n",
    "plt.axhline(model.apply(opt_params, sm), color='C1', label=r'$\\hat{f}\\left(\\vec{x}\\right)$')\n",
    "plt.legend()\n",
    "plt.tight_layout()\n",
    "glue('shapley_convg', plt.gcf(), display=False)"
   ]
  },
  {
   "cell_type": "markdown",
   "metadata": {},
   "source": [
    "One nice check on Shapley values is that we can check that their sum is equal to the value of model function minus the expect value across all instances. Note we made approximations to use the Equation from {cite}`vstrumbelj2014explaining` so that we cannot expect perfect agreement. That value is computed as:\n"
   ]
  },
  {
   "cell_type": "code",
   "execution_count": 16,
   "metadata": {},
   "outputs": [
    {
     "name": "stdout",
     "output_type": "stream",
     "text": [
      "6.7732835 [[8.085391]]\n"
     ]
    }
   ],
   "source": [
    "print(np.sum(sv), model.apply(opt_params, sm))"
   ]
  },
  {
   "cell_type": "markdown",
   "metadata": {},
   "source": [
    "which is *some* disagreement. This is an effect of the approximation method we're using. We can check that by examining how sample number effects the sum of Shapley values.\n",
    "\n",
    "```{glue:figure} shapley_convg\n",
    "---\n",
    "name: shapley_convg\n",
    "---\n",
    "A comparison of sum of Shapley values and function value as a function of samples number in the Shapley value approximation.\n",
    "```\n",
    "\n",
    "It is slowly converging. Finally we can view the individual Shapley values, which is our explanation."
   ]
  },
  {
   "cell_type": "code",
   "execution_count": 17,
   "metadata": {},
   "outputs": [
    {
     "data": {
      "image/png": "[encoded data removed]",
      "text/plain": [
       "<Figure size 432x288 with 1 Axes>"
      ]
     },
     "metadata": {},
     "output_type": "display_data"
    }
   ],
   "source": [
    "plot_grad(sv, s)"
   ]
  },
  {
   "cell_type": "markdown",
   "metadata": {},
   "source": [
    "The four methods are shown side-by-side below. "
   ]
  },
  {
   "cell_type": "code",
   "execution_count": 18,
   "metadata": {},
   "outputs": [
    {
     "data": {
      "image/png": "[encoded data removed]",
      "text/plain": [
       "<Figure size 864x288 with 1 Axes>"
      ]
     },
     "metadata": {},
     "output_type": "display_data"
    }
   ],
   "source": [
    "heights = []\n",
    "plt.figure(figsize=(12,4))\n",
    "x = np.arange(len(s))\n",
    "for i,(gi,l) in enumerate(zip([g, ig, sg], ['Gradient', 'Integrated', 'Smooth'])):\n",
    "    h = gi[0, np.arange(len(s)), list(map(ALPHABET.index,s))]\n",
    "    plt.bar(x + i/5 - 1/4, h, width=1/5, edgecolor='black', label=l)\n",
    "plt.bar(x + 3\n",
    "        /5 - 1/4, sv, width=1/5, edgecolor='black', label='Shapley')\n",
    "plt.gca().set_xticks(range(len(s)))\n",
    "plt.gca().set_xticklabels(s)\n",
    "plt.legend()\n",
    "plt.show()"
   ]
  },
  {
   "cell_type": "markdown",
   "metadata": {},
   "source": [
    "As someone who works with peptides, I believe the Shapley is the most accurate here. I wouldn't expect the pattern of L and R to be that significant, which is what the Shapley values show. Another difference is that the Shapley values do not show the phenylalanine (F) as have a significant effect. \n",
    "\n",
    "What can we conclude from this information? We could perhaps add an explanation like this: \"The sequence is predicted to be hemolytic primarily because of the glutamine, proline, and arrangement of lecucine and arginine.\""
   ]
  },
  {
   "cell_type": "markdown",
   "metadata": {},
   "source": [
    "## Training Data Importance\n",
    "\n",
    "Another kind of explanation or interpretation we might desire is *which* training data points contribute most to a prediction. This is a more literal answer to the question: \"Why did my model predict this?\" -- neural networks are a result of training data and thus the answer to why a prediction is made can be traced to training data. Ranking training data for a given prediction helps us understand which training examples are causing the neural network to predict a value. This is like an influence function, $\\mathcal{I}(x_i, x)$, which gives a score of incluence for training point $i$ and input $x$. The most straightforward way to compute the influence would be to train the neural network with (i.e., $\\hat{f}(x)$) and without $x_i$ (i.e., $\\hat{f}_{-x_i}(x)$) and define the influence as\n",
    "\n",
    "\\begin{equation}\n",
    "\\mathcal{I}(x_i, x) = \\hat{f}_{-x_i}(x) - \\hat{f}(x)\n",
    "\\end{equation}\n",
    "\n",
    "For example, if a prediction is higher after removing the training point $x_i$ from training, we would say that point has a positive influence. Computing this influence function requires training the model as many times as you have points -- typically computationally infeasible. {cite}`koh2017understanding` show a way to approximate this by looking at infinitesimal changes to the *weights* of each training point. Computing these influence functions do require computing a Hessian with respect to the loss function and thus are not commonly used. If you're using JAX though, this is simple to do.\n",
    "\n",
    "```{margin}\n",
    "If using a kernel model, the features are the training data. The above methods like integrated gradients, give training data importance.\n",
    "```\n",
    "\n",
    "Training data importance provides an interpretation that is useful for deep learning experts. It tells you which training examples are most influential for a given predictions. This can help troubleshoot issues with data or tracing explanations for spurious predictions. However, a typical user of predictions from a deep learning model will probably be unsatisfied with a ranking of training data as an explanation. "
   ]
  },
  {
   "cell_type": "markdown",
   "metadata": {},
   "source": [
    "## Surrogate Models\n",
    "\n",
    "One of the more general ideas in interpretability is to fit an interpretable model to a black box model *in the neighborhood of a specific example*. We assume that an interpretable model cannot be fit globally to a black box model -- otherwise we could just use the interpretable model and throw away the black box model. However, if we fit the interpretable model to just a small region around an example of interest, we can provide an explanation through the locally correct interpretable model. We call the interpretable model a **local surrogate model**. Examples of local surrogate models that are inherently interpretable include decision trees, linear models, sparse linear models (for succint explanations), a Naive Bayes Classifier, etc.\n",
    "\n",
    "A popular algorithm for this process of fitting a local surrogate model is called Local Interpretable Model-Agnostic Explanations (LIME) {cite}`ribeiro2016should`. LIME fits the local surrogate model in the neighborhood of the example of interest utilizing the loss function that trained the original black box model. The loss function for the local surrogate model is weighted so that we value points closer to the example of interest as we regress the surrogate model. The LIME paper includes sparsifying the surrogate model in its notation, but we'll omit that from the loss equation since that is more of an attribute of the local surrogate model. Thus, our definition for the local surrogate model loss is\n",
    "\n",
    "\\begin{equation}\n",
    "\\mathcal{l^s}\\left(x'\\right) = w(x', x)\\mathcal{l}\\left(\\hat{f}_s(x'), \\hat{f}(x')\\right)\n",
    "\\end{equation}\n",
    "\n",
    "where $w(x', x)$ is a weight kernel function that weights points near example of interest $x$, $\\mathcal{l}(\\cdot,\\cdot)$ is the original black box model loss, $\\hat{f}(\\cdot)$ is the black box model, and $\\hat{f}_s(\\cdot)$ is the local surrogate model.\n",
    "\n",
    "\n",
    "```{margin}\n",
    "LIME as formulated in {cite}`ribeiro2016should` gives feature importance descriptions, but you can use Hmm, not sure if I'\n",
    "```\n",
    "\n",
    "The weight function is a bit ad hoc -- it depends on the data type. For regression tasks with scalar labels, we use a kernel function and you have a variety of choices: Gaussian, cosine, Epanechnikov. For text, the LIME implementations use a [Hamming distance](https://en.wikipedia.org/wiki/Hamming_distance) which just counts number of text tokens which do not match between two strings. Images use the same distance but with superpixels being the same as the example or blank.\n",
    "\n",
    "How are the points $x'$ generated? In the continuous case $x'$ is sampled *uniformly*, which is quite a feat since feature spaces are often unbounded. You could sample $x'$ according to your weight function and then omit the weighting (since it was sampled according to that) to avoid issues like unbounded feature spaces. In general, LIME is a bit subjective in continuous vector feature spaces. For images and text, $x'$ is formed by masking tokens (words) and zeroing (making black) superpixels. This leads to explanations that should feel quite similar to Shapley values -- and indeed you can show LIME is equivalent to Shapley values with some small notation changes."
   ]
  },
  {
   "cell_type": "markdown",
   "metadata": {},
   "source": [
    "## Counterfactuals \n",
    "\n",
    "A counterfactual is a solution to an optimization problem: find an example $x'$ that has a different label than $x$ and as close as possible to $x${cite}`wachter2017counterfactual`. You can formulate this like:\n",
    "\n",
    "\\begin{equation}\n",
    "\\textrm{minimize}\\qquad d(x, x')\\\\\n",
    "\\textrm{such that}\\qquad \\hat{f}(x) \\neq \\hat{f}(x')\n",
    "\\end{equation}\n",
    "\n",
    "In regression settings where $\\hat{f}(x)$ outputs a scalar, you need to modify your constraint to be some $\\Delta$ away from $\\hat{f}(x)$. $x'$ that satisfies this optimization problem is the counterfactual: a condition that did not occur and would have led to a different outcome. Typically finding $x'$ is treated as a derivative-free optimization. You can calculate $\\frac{\\partial \\hat{f}}{\\partial x'}$ and do constrained optimization, but in practice it can be faster to just randomly perturb $x$ until $\\hat{f}(x) \\neq \\hat{f}(x')$ like a Monte Carlo optimization. You can also use a generative model that can propose new $x'$ via unsupervised training. See {cite}`wellawatte_seshadri_white_2021` for a universal counterfactual generator for molecules. See {cite}`numeroso2020explaining` for a method specifically for graph neural networks of molecules. \n",
    "\n",
    "Defining distance is an important subjective concern, that we saw above for LIME. A common example for molecular structures is Tanimoto similarity (also known as Jaccard index).\n",
    "\n",
    "Counterfactuals have a disadvantage compared to Shapley values: they do not provide a *complete* explanation. Shapley values sum to the prediction, meaning we are not missing any part of the explanation. Counterfactuals modify as few features as possible (minimizing distance) and so may omit information about features that still contribute to a prediction.\n",
    "\n",
    "### Example\n",
    "\n",
    "We can quickly implement this idea for our peptide example above. We can define our distance as the Hamming distance. Then the closes $x'$ would be a single amino acid substitution. Let's just try enumerating those and see if we can achieve a label swap. We'll define a function that does a single substitution:"
   ]
  },
  {
   "cell_type": "code",
   "execution_count": 19,
   "metadata": {},
   "outputs": [
    {
     "data": {
      "text/plain": [
       "DeviceArray([[8.558988]], dtype=float32)"
      ]
     },
     "execution_count": 19,
     "metadata": {},
     "output_type": "execute_result"
    }
   ],
   "source": [
    "def check_cf(x, i, j):    \n",
    "    # copy\n",
    "    x = jnp.array(x)        \n",
    "    # substitute\n",
    "    x = jax.ops.index_update(x, jax.ops.index[:,i], 0)\n",
    "    x = jax.ops.index_update(x, jax.ops.index[:,i,j], 1)\n",
    "    #print(x)\n",
    "    return model.apply(opt_params, x)\n",
    "check_cf(sm, 0,0)"
   ]
  },
  {
   "cell_type": "markdown",
   "metadata": {},
   "source": [
    "Then build all possible substitutions with {obj}`jnp.meshgrid<jax.numpy.meshgrid>` and apply our function over that with {obj}`vmap<jax.vamp>`. {obj}`.ravel()<jax.numpy.ravel>` makes our array of indices be a single dimensions, so we do not need to worry about doing a complex vmap. "
   ]
  },
  {
   "cell_type": "code",
   "execution_count": 20,
   "metadata": {},
   "outputs": [],
   "source": [
    "ii, jj = jnp.meshgrid(jnp.arange(sl), jnp.arange(21))\n",
    "ii, jj = ii.ravel(), jj.ravel()\n",
    "x = jax.vmap(check_cf, in_axes=(None, 0, 0))(sm, ii, jj)"
   ]
  },
  {
   "cell_type": "markdown",
   "metadata": {},
   "source": [
    "Now we'll display all the single amino acid substitutions which resulted in a negative prediction - the logits are less than zero."
   ]
  },
  {
   "cell_type": "code",
   "execution_count": 21,
   "metadata": {},
   "outputs": [
    {
     "data": {
      "text/html": [
       "<tt>RAGL<span style=\"color:red;\">-</span>FPVGRLLRRLLRRLLR<br/>RAGLQF<span style=\"color:red;\">-</span>VGRLLRRLLRRLLR<br/>RAGL<span style=\"color:red;\">A</span>FPVGRLLRRLLRRLLR<br/>RAGLQF<span style=\"color:red;\">A</span>VGRLLRRLLRRLLR<br/>RAGL<span style=\"color:red;\">C</span>FPVGRLLRRLLRRLLR<br/>RAGLQF<span style=\"color:red;\">C</span>VGRLLRRLLRRLLR<br/>RAGLQFP<span style=\"color:red;\">C</span>GRLLRRLLRRLLR<br/>RAGL<span style=\"color:red;\">I</span>FPVGRLLRRLLRRLLR<br/>RAGLQF<span style=\"color:red;\">I</span>VGRLLRRLLRRLLR<br/>RAGL<span style=\"color:red;\">L</span>FPVGRLLRRLLRRLLR<br/>RAGLQF<span style=\"color:red;\">L</span>VGRLLRRLLRRLLR<br/>RAGL<span style=\"color:red;\">F</span>FPVGRLLRRLLRRLLR<br/>RAGLQF<span style=\"color:red;\">F</span>VGRLLRRLLRRLLR<br/>RAGLQFP<span style=\"color:red;\">F</span>GRLLRRLLRRLLR<br/>RAGL<span style=\"color:red;\">P</span>FPVGRLLRRLLRRLLR<br/>RAGL<span style=\"color:red;\">T</span>FPVGRLLRRLLRRLLR<br/>RAGL<span style=\"color:red;\">W</span>FPVGRLLRRLLRRLLR<br/>RAGL<span style=\"color:red;\">V</span>FPVGRLLRRLLRRLLR<br/>RAGLQF<span style=\"color:red;\">V</span>VGRLLRRLLRRLLR<br/></tt>"
      ],
      "text/plain": [
       "<IPython.core.display.HTML object>"
      ]
     },
     "metadata": {},
     "output_type": "display_data"
    }
   ],
   "source": [
    "from IPython.core.display import display, HTML\n",
    "\n",
    "out = ['<tt>']\n",
    "for i, j in zip(ii[jnp.squeeze(x) < 0],\n",
    "                jj[jnp.squeeze(x) < 0]):    \n",
    "    out.append(f'{s[:i]}<span style=\"color:red;\">{ALPHABET[j]}</span>{s[i+1:]}<br/>')\n",
    "out.append('</tt>')\n",
    "display(HTML(''.join(out)))"
   ]
  },
  {
   "cell_type": "markdown",
   "metadata": {},
   "source": [
    "We have a few to choose from, but the interpretation is essentially exchange the glutamine with a hydrophobic group or replace the proline with V, F, A, or C to make the peptide non-hemolytic. Stated as a counterfactual: \"If the glutamine were exchanged with a hydrophobic amino acid, the peptide would not be hemolytic\"."
   ]
  },
  {
   "cell_type": "markdown",
   "metadata": {},
   "source": [
    "## Specific Architectures Explanations\n",
    "\n",
    "The same principles above apply to GNNs, but there are competing ideas about how best to translate these ideas to work on graphs. See {cite}`agarwal2021towards` for a discussion of theory of interpretability specifically for GNNs and {cite}`yuan2020explainability` for a survey of the methods available for constructing explanations in GNNs. \n",
    "\n",
    "NLP is another area where there are specific approaches to constructing explanations and interpretation. See {cite}`madsen2021post` for a recent survey."
   ]
  },
  {
   "cell_type": "markdown",
   "metadata": {},
   "source": [
    "## Summary\n",
    "\n",
    "* Interpretation of deep learning models is imperitive for ensuring model correctness, making predictions useful to humans, and can be required for legal compliance.\n",
    "* Interpretability of neural networks is part of a broader topic of explainability in AI (XAI), a topic that is in its infancy\n",
    "* An *explanation* is still ill-defined, but most often is expressed in terms of model features.\n",
    "* Strategies for explanations inlcude feature importance, training data importance, counterfactuals, and surrogate models that are locally accurate,\n",
    "* Most explanations are generated per-example (at inference).\n",
    "* The most systemtic but expensive to compute explanations are Shapley values.\n",
    "* Some argue that counterfactuals provide the most intuitive and satisfying explanations, but they may not be complete explanations. "
   ]
  },
  {
   "cell_type": "markdown",
   "metadata": {},
   "source": [
    "## Cited References\n",
    "\n",
    "```{bibliography}\n",
    ":style: unsrtalpha\n",
    ":filter: docname in docnames\n",
    "```"
   ]
  }
 ],
 "metadata": {
  "celltoolbar": "Tags",
  "kernelspec": {
   "display_name": "Python 3",
   "language": "python",
   "name": "python3"
  },
  "language_info": {
   "codemirror_mode": {
    "name": "ipython",
    "version": 3
   },
   "file_extension": ".py",
   "mimetype": "text/x-python",
   "name": "python",
   "nbconvert_exporter": "python",
   "pygments_lexer": "ipython3",
   "version": "3.8.5"
  }
 },
 "nbformat": 4,
 "nbformat_minor": 4
}
